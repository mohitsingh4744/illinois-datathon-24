{
 "cells": [
  {
   "cell_type": "code",
   "execution_count": 1,
   "metadata": {},
   "outputs": [],
   "source": [
    "import pandas as pd\n",
    "\n",
    "# Load f1.csv and f2.csv\n",
    "f1 = pd.read_csv('f1.csv')\n",
    "f2 = pd.read_csv('f2.csv')\n",
    "\n",
    "# Define the number of rows for each split (assuming even split)\n",
    "split_size = len(f1) // 2\n",
    "\n",
    "# Split f1 into two smaller CSVs\n",
    "f1_part1 = f1.iloc[:split_size]\n",
    "f1_part2 = f1.iloc[split_size:]\n",
    "\n",
    "# Split f2 into two smaller CSVs\n",
    "f2_part1 = f2.iloc[:split_size]\n",
    "f2_part2 = f2.iloc[split_size:]\n",
    "\n",
    "# Save the splits to new CSV files\n",
    "f1_part1.to_csv('f1_part1.csv', index=False)\n",
    "f1_part2.to_csv('f1_part2.csv', index=False)\n",
    "f2_part1.to_csv('f2_part1.csv', index=False)\n",
    "f2_part2.to_csv('f2_part2.csv', index=False)\n"
   ]
  }
 ],
 "metadata": {
  "kernelspec": {
   "display_name": "trading",
   "language": "python",
   "name": "python3"
  },
  "language_info": {
   "codemirror_mode": {
    "name": "ipython",
    "version": 3
   },
   "file_extension": ".py",
   "mimetype": "text/x-python",
   "name": "python",
   "nbconvert_exporter": "python",
   "pygments_lexer": "ipython3",
   "version": "3.11.0"
  }
 },
 "nbformat": 4,
 "nbformat_minor": 2
}
